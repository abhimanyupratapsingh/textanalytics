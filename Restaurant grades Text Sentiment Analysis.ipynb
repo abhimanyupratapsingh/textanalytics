{
 "cells": [
  {
   "cell_type": "code",
   "execution_count": 1,
   "id": "984d8c93",
   "metadata": {},
   "outputs": [
    {
     "name": "stdout",
     "output_type": "stream",
     "text": [
      "  Treatment Status  Page Views    Calls  Reservations\n",
      "0    Control Group    419.7794  34.0196       33.9604\n",
      "1       Current Ad    501.1908  37.3885       34.0212\n",
      "2           New Ad    483.2110  41.7145       41.6805\n"
     ]
    }
   ],
   "source": [
    "import pandas as pd\n",
    "\n",
    "\n",
    "\n",
    "#Load your Excel sheet into a pandas DataFrame\n",
    "excel_file_path = 'Restaurant grades.xlsx'\n",
    "df = pd.read_excel(excel_file_path)\n",
    "\n",
    "# Grouping the data by 'treatment' and calculating the required values\n",
    "grouped_data = df.groupby('treatment').agg({\n",
    "    'pageviews': ['sum', 'count'],\n",
    "    'calls': ['sum', 'count'],\n",
    "    'reservations': ['sum', 'count']\n",
    "}).reset_index()\n",
    "\n",
    "# Renaming columns for better clarity\n",
    "grouped_data.columns = ['Treatment Status', 'Page Views (sum)', 'Page Views (count)', 'Calls (sum)', 'Calls (count)', 'Reservations (sum)', 'Reservations (count)']\n",
    "\n",
    "# Creating a new DataFrame with the desired structure\n",
    "result_df = pd.DataFrame({\n",
    "    'Treatment Status': ['Control Group', 'Current Ad', 'New Ad'],\n",
    "    'Page Views': grouped_data['Page Views (sum)'] / grouped_data['Page Views (count)'],\n",
    "    'Calls': grouped_data['Calls (sum)'] / grouped_data['Calls (count)'],\n",
    "    'Reservations': grouped_data['Reservations (sum)'] / grouped_data['Reservations (count)']\n",
    "})\n",
    "\n",
    "# Displaying the result DataFrame\n",
    "print(result_df)\n"
   ]
  },
  {
   "cell_type": "code",
   "execution_count": 2,
   "id": "0cd4b456",
   "metadata": {},
   "outputs": [
    {
     "name": "stdout",
     "output_type": "stream",
     "text": [
      "  Treatment Status  Page Views      Calls  Reservations\n",
      "0       Current Ad   19.393853   9.902821      0.179032\n",
      "1           New Ad   15.110699  22.619020     22.732653\n"
     ]
    }
   ],
   "source": [
    "\n",
    "\n",
    "# Grouping the data by 'treatment' and calculating the required values\n",
    "grouped_data = df.groupby('treatment').agg({\n",
    "    'pageviews': 'sum',\n",
    "    'calls': 'sum',\n",
    "    'reservations': 'sum'\n",
    "}).reset_index()\n",
    "\n",
    "# Calculating relative percentage increase from the control group\n",
    "control_group_values = grouped_data.loc[grouped_data['treatment'] == 0, ['pageviews', 'calls', 'reservations']].values.flatten()\n",
    "\n",
    "# Creating a new DataFrame with the desired structure\n",
    "result_df = pd.DataFrame({\n",
    "    'Treatment Status': ['Current Ad', 'New Ad'],\n",
    "    'Page Views': (grouped_data.loc[grouped_data['treatment'].isin([1, 2]), 'pageviews'].values - control_group_values[0]) / control_group_values[0] * 100,\n",
    "    'Calls': (grouped_data.loc[grouped_data['treatment'].isin([1, 2]), 'calls'].values - control_group_values[1]) / control_group_values[1] * 100,\n",
    "    'Reservations': (grouped_data.loc[grouped_data['treatment'].isin([1, 2]), 'reservations'].values - control_group_values[2]) / control_group_values[2] * 100\n",
    "})\n",
    "\n",
    "# Displaying the result DataFrame\n",
    "print(result_df)\n"
   ]
  },
  {
   "cell_type": "code",
   "execution_count": 3,
   "id": "648405cb",
   "metadata": {},
   "outputs": [
    {
     "name": "stdout",
     "output_type": "stream",
     "text": [
      "              index  Page Views      Calls  Reservations\n",
      "0  Treatment Status   19.393853   9.902821      0.179032\n",
      "1   restaurant_type   15.110699  22.619020     22.732653\n"
     ]
    }
   ],
   "source": [
    "# Grouping the data based on 'Treatment Status' and 'restaurant_type'\n",
    "grouped_result_df = result_df.groupby(['Treatment Status', 'restaurant_type']).mean().reset_index()\n",
    "\n",
    "# Displaying the grouped result DataFrame\n",
    "print(grouped_result_df)"
   ]
  },
  {
   "cell_type": "code",
   "execution_count": null,
   "id": "9e54f48c",
   "metadata": {},
   "outputs": [],
   "source": []
  }
 ],
 "metadata": {
  "kernelspec": {
   "display_name": "Python 3 (ipykernel)",
   "language": "python",
   "name": "python3"
  },
  "language_info": {
   "codemirror_mode": {
    "name": "ipython",
    "version": 3
   },
   "file_extension": ".py",
   "mimetype": "text/x-python",
   "name": "python",
   "nbconvert_exporter": "python",
   "pygments_lexer": "ipython3",
   "version": "3.12.4"
  }
 },
 "nbformat": 4,
 "nbformat_minor": 5
}
